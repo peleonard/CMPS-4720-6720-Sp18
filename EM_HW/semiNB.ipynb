{
 "cells": [
  {
   "cell_type": "code",
   "execution_count": 4,
   "metadata": {},
   "outputs": [],
   "source": [
    "import bnNB\n",
    "import random\n",
    "import math"
   ]
  },
  {
   "cell_type": "markdown",
   "metadata": {},
   "source": [
    "I utilize the code I wrote for homework [Naive Bayesian Implementation](https://github.com/peleonard/CMPS-4720-6720-Sp18/blob/master/NaiveBayesImplem/NaiveBayesSPECTScratch.ipynb). \n",
    "\n",
    "The main body of this code is a semi-supervised Bernoulli Naive Bayes. Please find the [reference](https://www.cs.cmu.edu/~tom/pubs/NigamEtAl-bookChapter.pdf). It's on page 37. And for the stopping criterion, I observe the change of loglikelihood defined in formula (3.8). If it gets stable, error for two consecutive loglikelihood is smalled than 1e-10, I shutdown the iteration. "
   ]
  },
  {
   "cell_type": "code",
   "execution_count": 5,
   "metadata": {},
   "outputs": [],
   "source": [
    "Strain = bnNB.parseTxtSPECT(\"SPECTtrain.txt\")\n",
    "Stest = bnNB.parseTxtSPECT(\"SPECTtest.txt\")\n",
    "\n",
    "low = 12\n",
    "up = 70\n",
    "\n",
    "StrainLabeled = []\n",
    "for i in range(len(Strain)):\n",
    "    if i < low or i > up:\n",
    "        StrainLabeled.append(Strain[i])\n",
    " \n",
    "StrainUnlabeled = Strain[low:(up+1)]\n",
    "\n",
    "semiNBFit0 = bnNB.meanByClass(StrainLabeled)\n",
    "\n",
    "noise = 1e-2\n",
    "\n",
    "def llLabeled(fit, datasetLabeled):\n",
    "    ll = []\n",
    "    for i in range(len(datasetLabeled)):\n",
    "        ll0 = fit[1][datasetLabeled[i][0]]\n",
    "        for j in range(len(datasetLabeled[0]) - 1):\n",
    "            ll0 *= bnNB.Bernoulli(datasetLabeled[i][j + 1], \n",
    "                             fit[0][datasetLabeled[i][j + 1]][j])\n",
    "        ll.append(math.log(ll0 + 1e-2))\n",
    "    return(sum(ll))\n",
    " \n",
    "llLabeled(semiNBFit0, StrainLabeled)\n",
    "\n",
    "\n",
    "def llUnlabeled(fit, probs, datasetUnlabeled):\n",
    "    ll = []\n",
    "    for i in range(len(datasetUnlabeled)):\n",
    "        ll0_0 = probs[i][0]\n",
    "        ll1_0 = probs[i][0]\n",
    "        for j in range(len(datasetUnlabeled[0]) - 1):\n",
    "            ll0_0 *= bnNB.Bernoulli(datasetUnlabeled[i][j + 1],\n",
    "                               fit[0][0][j])\n",
    "            ll1_0 *= bnNB.Bernoulli(datasetUnlabeled[i][j + 1],\n",
    "                               fit[0][1][j])\n",
    "        \n",
    "        ll.append(math.log(ll0_0 + ll1_0 + 1e-2))\n",
    "        \n",
    "    return(sum(ll))\n",
    "\n",
    "\n",
    "\n",
    "T = 100\n",
    "LL = []\n",
    "error = 1e-10\n",
    "for t in range(T):\n",
    "    \n",
    "    unlabeledProbs = []\n",
    "    for i in range(len(StrainUnlabeled)):\n",
    "        unlabeledProb = bnNB.testProb(semiNBFit0, StrainUnlabeled[i][1:])    \n",
    "        unlabeledProbs.append(unlabeledProb)\n",
    "    \n",
    "    unlabeledPred = bnNB.bernoulliNBPredTestset(semiNBFit0, StrainUnlabeled)\n",
    "     \n",
    "    for i in range(len(StrainUnlabeled)):\n",
    "        StrainUnlabeled[i][0] = unlabeledPred[i]\n",
    "    \n",
    "    semiNBFit = bnNB.meanByClass(StrainLabeled + StrainUnlabeled)\n",
    "    \n",
    "    loglikeLabeled = llLabeled(semiNBFit, StrainLabeled) \n",
    "    loglikeUnlabeled = llUnlabeled(semiNBFit, unlabeledProbs, StrainUnlabeled)\n",
    "    LL.append(loglikeLabeled + loglikeUnlabeled)\n",
    "    \n",
    "    if (t > 0 and ((LL[t] - LL[t-1]) < error)):\n",
    "        break\n",
    "    \n",
    "    semiNBFit0 = semiNBFit\n"
   ]
  },
  {
   "cell_type": "markdown",
   "metadata": {},
   "source": [
    "One can see the decrease of likelihood."
   ]
  },
  {
   "cell_type": "code",
   "execution_count": 6,
   "metadata": {
    "scrolled": false
   },
   "outputs": [
    {
     "name": "stdout",
     "output_type": "stream",
     "text": [
      "The loglikelihood during the iteration are \n",
      " [[-363.8978690517987, -359.24471406575634, -358.84038006445564, -358.8037555797348, -358.8037555797348]]\n"
     ]
    }
   ],
   "source": [
    "print(\"The loglikelihood during the iteration are \\n [%s]\" %(LL))"
   ]
  },
  {
   "cell_type": "markdown",
   "metadata": {},
   "source": [
    "If we only use the labeled data. "
   ]
  },
  {
   "cell_type": "code",
   "execution_count": 7,
   "metadata": {},
   "outputs": [
    {
     "name": "stdout",
     "output_type": "stream",
     "text": [
      "The acuracy of only used labed data is 0.818\n"
     ]
    }
   ],
   "source": [
    "predTest0, accu0 = bnNB.bernoulliNBClassifier(StrainLabeled, Stest)\n",
    "print(\"The acuracy of only used labed data is %.3f\" %(accu0))"
   ]
  },
  {
   "cell_type": "markdown",
   "metadata": {},
   "source": [
    "Define the main function and run it to obtain the accuracy. We can the model is not improved."
   ]
  },
  {
   "cell_type": "code",
   "execution_count": 8,
   "metadata": {},
   "outputs": [
    {
     "name": "stdout",
     "output_type": "stream",
     "text": [
      "The predictions of test dataset and accuracy for a semi-supervised \n",
      "      Bernoulli Naive Bayes on SPECT dastet is \n",
      " [[1, 0, 1, 1, 1, 1, 1, 1, 0, 1, 1, 0, 1, 1, 1, 1, 1, 1, 0, 1, 1, 1, 1, 1, 1, 1, 1, 1, 1, 1, 1, 1, 1, 1, 1, 0, 1, 1, 1, 1, 1, 1, 1, 0, 0, 1, 1, 1, 0, 1, 0, 0, 1, 0, 0, 1, 0, 0, 1, 1, 1, 1, 1, 1, 0, 1, 1, 1, 1, 1, 1, 1, 1, 1, 1, 1, 1, 1, 1, 1, 1, 1, 1, 1, 1, 1, 1, 1, 1, 0, 1, 1, 0, 1, 1, 1, 1, 1, 1, 1, 1, 1, 1, 1, 0, 0, 0, 0, 1, 0, 0, 0, 1, 1, 0, 1, 0, 1, 0, 1, 0, 0, 0, 1, 1, 0, 1, 1, 0, 1, 0, 1, 1, 0, 1, 1, 1, 1, 1, 1, 1, 1, 1, 1, 1, 0, 1, 1, 1, 1, 1, 0, 1, 1, 1, 0, 1, 1, 1, 1, 1, 1, 1, 1, 1, 1, 1, 1, 0, 1, 1, 1, 0, 1, 0, 0, 0, 0, 0, 0, 1, 0, 0, 1, 1, 1, 0]] \n",
      " and 0.770\n"
     ]
    }
   ],
   "source": [
    "def semiEM_NB(fit, testset):\n",
    "    predTest = bnNB.bernoulliNBPredTestset(fit, testset)\n",
    "    accu = bnNB.accuracyNB(predTest, testset)\n",
    "    return accu, predTest\n",
    "\n",
    "accu, predTest = semiEM_NB(semiNBFit, Stest)\n",
    "print(\"\"\"The predictions of test dataset and accuracy for a semi-supervised \n",
    "      Bernoulli Naive Bayes on SPECT dastet is \\n [%s] \\n and %.3f\"\"\" %(predTest, accu))\n"
   ]
  },
  {
   "cell_type": "code",
   "execution_count": null,
   "metadata": {},
   "outputs": [],
   "source": []
  }
 ],
 "metadata": {
  "kernelspec": {
   "display_name": "Python 3",
   "language": "python",
   "name": "python3"
  },
  "language_info": {
   "codemirror_mode": {
    "name": "ipython",
    "version": 3
   },
   "file_extension": ".py",
   "mimetype": "text/x-python",
   "name": "python",
   "nbconvert_exporter": "python",
   "pygments_lexer": "ipython3",
   "version": "3.6.4"
  }
 },
 "nbformat": 4,
 "nbformat_minor": 2
}
