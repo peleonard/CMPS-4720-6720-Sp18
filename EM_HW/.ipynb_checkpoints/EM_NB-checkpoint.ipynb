{
 "cells": [
  {
   "cell_type": "code",
   "execution_count": 3,
   "metadata": {},
   "outputs": [],
   "source": [
    "import random\n",
    "import math\n",
    "import bnNB"
   ]
  },
  {
   "cell_type": "code",
   "execution_count": 4,
   "metadata": {},
   "outputs": [],
   "source": [
    "Strain = bnNB.parseTxtSPECT(\"SPECTtrain.txt\")\n",
    "Stest = bnNB.parseTxtSPECT(\"SPECTtest.txt\")"
   ]
  },
  {
   "cell_type": "markdown",
   "metadata": {},
   "source": [
    "I utilize the code I wrote for homework [Naive Bayesian Implementation](https://github.com/peleonard/CMPS-4720-6720-Sp18/blob/master/NaiveBayesImplem/NaiveBayesSPECTScratch.ipynb). \n",
    "\n",
    "The main body of this code is a Expectation Maximization Bernoulli Naive Bayes. Please find the [reference](http://www.cs.columbia.edu/~mcollins/em.pdf). It's on page 14. And for the stopping criterion, I observe the change of Naive Bayesparameters (prior prob and conditional prob for every feature), as the decrease of loglikelihood is proved in the above paper. "
   ]
  },
  {
   "cell_type": "markdown",
   "metadata": {},
   "source": [
    "Intilization of EM Naive Bayes."
   ]
  },
  {
   "cell_type": "code",
   "execution_count": 5,
   "metadata": {},
   "outputs": [],
   "source": [
    "# Initialize the label randomly\n",
    "# Prob of label 1 \n",
    "nrow = len(Strain)\n",
    "ncol = len(Strain[0])\n",
    "\n",
    "# initial parameter for navie bayesian\n",
    "q0 = {}\n",
    "# the keys are just classes\n",
    "\n",
    "#q0['1'] = [0.5 for _ in range(ncol)]\n",
    "q0['1'] = [random.random() for _ in range(ncol)]\n",
    "\n",
    "q0['0'] = [1 - q0['1'][i] for i in range(len(q0['1']))]\n",
    "\n",
    "T = 100\n",
    "\n",
    "qTest = {}\n",
    "qTest['1'] = []\n",
    "qTest['0'] = []"
   ]
  },
  {
   "cell_type": "markdown",
   "metadata": {},
   "source": [
    "Iteration of EM."
   ]
  },
  {
   "cell_type": "code",
   "execution_count": 6,
   "metadata": {},
   "outputs": [],
   "source": [
    "noise = 1e-2\n",
    "\n",
    "for t in range(T):\n",
    "    \n",
    "    prob1 = []\n",
    "    for i in range(nrow): \n",
    "        prob1_0 = math.log(q0['1'][0] + noise)\n",
    "        for j in range(ncol - 1): \n",
    "            prob1_0 += math.log(bnNB.Bernoulli(Strain[i][j+1], q0['1'][j + 1]) + noise)\n",
    "        prob1.append(prob1_0)\n",
    "        \n",
    "    prob0 = []\n",
    "    for i in range(nrow): \n",
    "        prob0_0 = math.log(q0['0'][0] + noise)\n",
    "        for j in range(ncol - 1): \n",
    "            prob0_0 += math.log(bnNB.Bernoulli(Strain[i][j+1], q0['0'][j + 1]) + noise)\n",
    "        prob0.append(prob0_0)\n",
    "    \n",
    "    delta = {}\n",
    "    delta['1'] = [prob1[i]/(prob1[i] + prob0[i]) for i in range(nrow)]\n",
    "    delta['0'] = [prob0[i]/(prob1[i] + prob0[i]) for i in range(nrow)]\n",
    "    \n",
    "    \n",
    "    q = {}\n",
    "    q['1'] = []\n",
    "    q['1'].append(bnNB.mean(delta['1']))\n",
    "    for j in range(ncol - 1):\n",
    "        sumdeltaPart = 0\n",
    "        for i in range(nrow):  \n",
    "            if (Strain[i][j + 1] == 1):\n",
    "                sumdeltaPart += delta['1'][i]\n",
    "        q['1'].append( sumdeltaPart / sum(delta['1']))\n",
    "        \n",
    "    q['0'] = []\n",
    "    q['0'].append(bnNB.mean(delta['0']))\n",
    "    for j in range(ncol - 1):\n",
    "        sumdeltaPart = 0\n",
    "        for i in range(nrow):  \n",
    "            if (Strain[i][j + 1] == 0):\n",
    "                sumdeltaPart += delta['0'][i]\n",
    "        q['0'].append( sumdeltaPart / sum(delta['0'])) \n",
    "    \n",
    "    qTest['1'].append(q['1'])\n",
    "    qTest['0'].append(q['0'])\n",
    "\n",
    "    \n",
    "    error = 0\n",
    "    for i in range(ncol):\n",
    "        error += (q['1'][i] - q0['1'][i])**2\n",
    "    MSE = error**.5 / ncol\n",
    "    if MSE < 1e-8:\n",
    "        break\n",
    "    q0 = q\n",
    "\n",
    "EM_NBFit = [{}, {}]\n",
    "EM_NBFit[0][0] = q0['0'][1:]\n",
    "EM_NBFit[0][1] = q0['1'][1:]\n",
    "\n",
    "EM_NBFit[1][0] = q0['0'][0]\n",
    "EM_NBFit[1][1] = q0['1'][0]"
   ]
  },
  {
   "cell_type": "markdown",
   "metadata": {},
   "source": [
    "If we only use the training data with labels "
   ]
  },
  {
   "cell_type": "code",
   "execution_count": 8,
   "metadata": {},
   "outputs": [
    {
     "name": "stdout",
     "output_type": "stream",
     "text": [
      "The acuracy of only used labed data is 0.775\n"
     ]
    }
   ],
   "source": [
    "predTest0, accu0 = bnNB.bernoulliNBClassifier(Strain, Stest)\n",
    "print(\"The acuracy of only used labed data is %.3f\" %(accu0))"
   ]
  },
  {
   "cell_type": "markdown",
   "metadata": {},
   "source": [
    "Define the main fucntion and obtain the prediction and accuracy. One can see the accuray is improved"
   ]
  },
  {
   "cell_type": "code",
   "execution_count": 7,
   "metadata": {},
   "outputs": [
    {
     "name": "stdout",
     "output_type": "stream",
     "text": [
      "The predictions of test dataset and accuracy for a EM \n",
      "      Bernoulli Naive Bayes on SPECT dastet is \n",
      " [[1, 1, 1, 1, 1, 1, 1, 1, 1, 1, 1, 1, 1, 1, 1, 1, 1, 1, 1, 1, 1, 0, 0, 1, 1, 1, 1, 0, 1, 1, 0, 1, 1, 1, 1, 1, 1, 1, 1, 1, 1, 1, 1, 1, 1, 1, 1, 1, 1, 1, 1, 1, 1, 1, 1, 0, 1, 1, 1, 1, 0, 1, 1, 1, 1, 0, 1, 1, 1, 1, 1, 1, 0, 1, 1, 1, 1, 1, 0, 1, 1, 0, 1, 0, 0, 0, 0, 1, 1, 1, 1, 1, 1, 1, 1, 1, 1, 1, 1, 0, 1, 1, 1, 1, 1, 1, 1, 1, 1, 1, 1, 1, 1, 1, 1, 1, 1, 1, 1, 1, 1, 1, 1, 0, 1, 1, 1, 1, 1, 1, 1, 1, 1, 1, 1, 1, 1, 1, 1, 1, 0, 1, 0, 1, 1, 1, 1, 1, 0, 1, 1, 1, 1, 0, 1, 1, 1, 1, 0, 0, 1, 0, 1, 1, 1, 1, 1, 1, 1, 1, 1, 1, 1, 1, 1, 1, 1, 1, 1, 1, 1, 1, 1, 1, 1, 1, 1]] \n",
      " and 0.797\n"
     ]
    }
   ],
   "source": [
    "def EM_NB(fit, testset):\n",
    "    predTest = bnNB.bernoulliNBPredTestset(fit, testset)\n",
    "    accu = bnNB.accuracyNB(predTest, testset)\n",
    "    return accu, predTest\n",
    "\n",
    "accu, predTest = EM_NB(EM_NBFit, Stest)\n",
    "print(\"\"\"The predictions of test dataset and accuracy for a EM \n",
    "      Bernoulli Naive Bayes on SPECT dastet is \\n [%s] \\n and %.3f\"\"\" %(predTest, accu))"
   ]
  },
  {
   "cell_type": "code",
   "execution_count": null,
   "metadata": {},
   "outputs": [],
   "source": []
  }
 ],
 "metadata": {
  "kernelspec": {
   "display_name": "Python 3",
   "language": "python",
   "name": "python3"
  },
  "language_info": {
   "codemirror_mode": {
    "name": "ipython",
    "version": 3
   },
   "file_extension": ".py",
   "mimetype": "text/x-python",
   "name": "python",
   "nbconvert_exporter": "python",
   "pygments_lexer": "ipython3",
   "version": "3.6.4"
  }
 },
 "nbformat": 4,
 "nbformat_minor": 2
}
