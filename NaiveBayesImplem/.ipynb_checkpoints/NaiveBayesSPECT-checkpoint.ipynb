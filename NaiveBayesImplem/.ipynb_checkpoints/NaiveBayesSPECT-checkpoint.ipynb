{
 "cells": [
  {
   "cell_type": "markdown",
   "metadata": {},
   "source": [
    "# Naive Bayes Implementation on SPECT DATA "
   ]
  },
  {
   "cell_type": "code",
   "execution_count": 3,
   "metadata": {},
   "outputs": [],
   "source": [
    "# import libraries\n",
    "import pandas as pd\n",
    "import numpy as np\n",
    "from sklearn.metrics import confusion_matrix\n",
    "from sklearn.naive_bayes import GaussianNB, MultinomialNB, BernoulliNB"
   ]
  },
  {
   "cell_type": "code",
   "execution_count": 4,
   "metadata": {},
   "outputs": [
    {
     "data": {
      "text/plain": [
       "(187, 23)"
      ]
     },
     "execution_count": 4,
     "metadata": {},
     "output_type": "execute_result"
    }
   ],
   "source": [
    "# Import the training and testing data\n",
    "spNames = ['F' + str(i) for i in range(23)]\n",
    "spNames[0] = 'diagnosis'\n",
    "\n",
    "SP_train = pd.read_csv(\"SPECTtrain.txt\", names=spNames)\n",
    "SP_train.shape\n",
    "\n",
    "SP_test = pd.read_csv(\"SPECTtest.txt\", names=spNames)\n",
    "SP_test.shape"
   ]
  },
  {
   "cell_type": "markdown",
   "metadata": {},
   "source": [
    "Since the features are binary data, so Bernoulli Naive Bayes Classifier should be taken into account. Following the instructions of \"scikit-learn\" library, one can implement it straitforwardly and obtain a prediction on SPECT test dataset. "
   ]
  },
  {
   "cell_type": "code",
   "execution_count": 5,
   "metadata": {},
   "outputs": [
    {
     "name": "stdout",
     "output_type": "stream",
     "text": [
      "[1 0 1 1 1 1 1 1 0 1 1 0 1 1 1 1 1 1 0 1 1 1 1 1 0 1 1 1 1 0 1 1 1 1 1 1 1\n",
      " 0 1 1 1 1 1 0 0 1 0 1 0 1 1 0 1 0 1 1 1 0 1 1 1 1 1 1 0 1 1 0 1 1 1 1 1 1\n",
      " 1 1 1 1 1 1 1 1 1 1 1 1 1 1 1 1 1 1 0 1 1 1 0 1 1 1 1 1 1 0 0 1 0 0 1 0 0\n",
      " 0 0 0 0 1 0 1 0 1 0 0 0 1 1 0 1 1 0 1 0 0 1 0 1 1 1 1 1 1 1 1 1 1 1 0 1 1\n",
      " 1 1 1 0 1 1 1 0 1 1 1 1 1 1 1 1 1 1 1 1 0 1 1 1 0 1 0 0 0 0 0 0 1 0 0 1 1\n",
      " 1 0]\n",
      "The accuracy rate is 0.749, the sensitivity is 0.756, the specificity is \n",
      "      0.667\n"
     ]
    }
   ],
   "source": [
    "#clf = GaussianNB()\n",
    "#clf.fit(SP_train.iloc[:, 1:23], SP_train.iloc[:, 0])\n",
    "#GaussianNB(priors=None)\n",
    "\n",
    "clf = BernoulliNB()\n",
    "clf.fit(SP_train.iloc[:, 1:23], SP_train.iloc[:, 0])\n",
    "BernoulliNB(alpha=1.0, binarize=0.0, class_prior=None, fit_prior=True)\n",
    "\n",
    "#clf = MultinomialNB()\n",
    "#clf.fit(SP_train.iloc[:, 1:23], SP_train.iloc[:, 0])\n",
    "#MultinomialNB(alpha=1.0, class_prior=None, fit_prior=True)\n",
    "\n",
    "\n",
    "yTest_predNB = clf.predict(SP_test.iloc[:, 1:23])\n",
    "print(clf.predict(SP_test.iloc[:, 1:23]))\n",
    "\n",
    "tn, fp, fn, tp = confusion_matrix(SP_test.iloc[:, 0], yTest_predNB).ravel()\n",
    "AR = (tn+tp)/(tn+fp+fn+tp)\n",
    "Sens = tp/(tp+fn)\n",
    "Spec = tn/(tn+fp)\n",
    "print(\"\"\"The accuracy rate is %.3f, the sensitivity is %.3f, the specificity is \n",
    "      %.3f\"\"\" %(AR, Sens, Spec))\n"
   ]
  },
  {
   "cell_type": "markdown",
   "metadata": {},
   "source": [
    "By the way, we don't need to use partial fit in this library, since our data is small. We do not have to care about the memory use. "
   ]
  },
  {
   "cell_type": "code",
   "execution_count": null,
   "metadata": {},
   "outputs": [],
   "source": []
  }
 ],
 "metadata": {
  "kernelspec": {
   "display_name": "Python 3",
   "language": "python",
   "name": "python3"
  },
  "language_info": {
   "codemirror_mode": {
    "name": "ipython",
    "version": 3
   },
   "file_extension": ".py",
   "mimetype": "text/x-python",
   "name": "python",
   "nbconvert_exporter": "python",
   "pygments_lexer": "ipython3",
   "version": "3.6.4"
  }
 },
 "nbformat": 4,
 "nbformat_minor": 2
}
