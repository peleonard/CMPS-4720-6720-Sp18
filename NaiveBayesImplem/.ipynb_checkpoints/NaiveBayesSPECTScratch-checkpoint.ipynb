{
 "cells": [
  {
   "cell_type": "markdown",
   "metadata": {},
   "source": [
    "# Naive Bayes Implementation on SPECT DATA From Scratch"
   ]
  },
  {
   "cell_type": "code",
   "execution_count": 6,
   "metadata": {},
   "outputs": [],
   "source": [
    "# Define a parse text function and return a 2d list\n",
    "\n",
    "def parseTxtSPECT(filename):\n",
    "    dataset = open(filename).read().split(\"\\n\")\n",
    "    for i in range(len(dataset)):\n",
    "        dataset[i] = dataset[i].split(\",\")\n",
    "        for j in range(len(dataset[i])):\n",
    "            dataset[i][j] = int(dataset[i][j])\n",
    "    return dataset\n"
   ]
  },
  {
   "cell_type": "markdown",
   "metadata": {},
   "source": [
    "Since the features are binary data, so Bernoulli Naive Bayes Classifier (**BNBC**) should be taken into account. I will build a bernoulli naive bayesian classifier from scratch.\n",
    "\n",
    "At first, I separate the training dataset and calculate the statistics for BNBC, i.e. means of all features and prior probabilities. And We assume all features are conditionally independent."
   ]
  },
  {
   "cell_type": "code",
   "execution_count": 7,
   "metadata": {},
   "outputs": [],
   "source": [
    "# the first column is the response\n",
    "\n",
    "def sepByClass(dataset):\n",
    "\tdictMatch = {}\n",
    "\tfor i in range(len(dataset)):\n",
    "\t\trow = dataset[i]\n",
    "\t\tif (row[0] not in dictMatch):\n",
    "\t\t\tdictMatch[row[0]] = []\n",
    "\t\tdictMatch[row[0]].append(row[1:])\n",
    "\treturn dictMatch\n",
    "\n",
    "def priorProb(trainset):\n",
    "    trainSep = sepByClass(trainset)\n",
    "    probClass = {}\n",
    "    for key in trainSep.keys():\n",
    "        probClass[key] = float(len(trainSep[key])/len(trainset))\n",
    "    return probClass\n",
    "\n",
    "\n",
    "# conditional mean\n",
    "\n",
    "def mean(numbers):\n",
    "\treturn float(sum(numbers)/len(numbers))\n",
    "\n",
    "def meanCol(trainset):\n",
    "    means = [mean(attribute) for attribute in zip(*trainset)]\n",
    "    return means\n",
    "    \n",
    "def meanByClass(trainset):\n",
    "    trainSep = sepByClass(trainset)\n",
    "    priorProbs = priorProb(trainset)\n",
    "    meanPerFeature = {}\n",
    "    for y, features in trainSep.items():\n",
    "        meanPerFeature[y] = meanCol(features)\n",
    "    return meanPerFeature, priorProbs\n"
   ]
  },
  {
   "cell_type": "markdown",
   "metadata": {},
   "source": [
    "Base on the fitting, the posterior probabilities of every class are calculated and we pick the class that maximizes the posterior probabilities.\n",
    "\n",
    "Besides, A function is written to be applied the test dataset of SPECT Data."
   ]
  },
  {
   "cell_type": "code",
   "execution_count": 8,
   "metadata": {},
   "outputs": [],
   "source": [
    "# conditional prob is bernoulli\n",
    "def Bernoulli(x, p):\n",
    "    return p**x * (1-p)**(1-x)\n",
    "\n",
    "\n",
    "# Calculate the posterior probs \n",
    "def testProb(NBFit, testFeatures):\n",
    "    priorProbs = NBFit[1]\n",
    "    probs = {}\n",
    "    for y, meanFeature in NBFit[0].items():\n",
    "        probs[y] = priorProbs[y]\n",
    "        for i in range(len(meanFeature)):\n",
    "            probs[y] *= Bernoulli(testFeatures[i], meanFeature[i])\n",
    "    return probs\n",
    "\n",
    "\n",
    "# Use the probs to predict the response of testset\n",
    "def bernoulliNBPred(NBFit, testFeatures):\n",
    "    probs = testProb(NBFit, testFeatures)\n",
    "    # probPred: final predicted prob\n",
    "    classPred, probPred = None, 0\n",
    "    for y, prob in probs.items():\n",
    "        if classPred is None or prob > probPred:\n",
    "            probPred = prob\n",
    "            classPred = y\n",
    "    return classPred\n",
    "\n",
    "def bernoulliNBPredTestset(NBFit, testset):\n",
    "    classPreds = []\n",
    "    for i in range(len(testset)):\n",
    "        testFeatures = testset[i][1:]\n",
    "        classPreds.append(bernoulliNBPred(NBFit, testFeatures))\n",
    "    return classPreds\n",
    "\n",
    "\n",
    "def accuracyNB(predTest, testset):\n",
    "    correctPred = 0\n",
    "    for i in range(len(testset)):\n",
    "        if predTest[i] == testset[i][0]:\n",
    "            correctPred += 1\n",
    "    return correctPred/len(predTest)\n"
   ]
  },
  {
   "cell_type": "markdown",
   "metadata": {},
   "source": [
    "Finally, we combine everything together to form a function with training and test dataset as variables,  and predictions and accuracy as outputs."
   ]
  },
  {
   "cell_type": "code",
   "execution_count": 9,
   "metadata": {},
   "outputs": [],
   "source": [
    "## A final bernoulli naive bayesian classifier for SPECT dataset\n",
    "def bernoulliNBClassifier(trainset, testset):\n",
    "    bernoulliNBFit = meanByClass(trainset)\n",
    "    predTest = bernoulliNBPredTestset(bernoulliNBFit, testset)\n",
    "    accu = accuracyNB(predTest, testset)\n",
    "    return predTest,accu\n",
    "\n"
   ]
  },
  {
   "cell_type": "markdown",
   "metadata": {},
   "source": [
    "We run the model. "
   ]
  },
  {
   "cell_type": "code",
   "execution_count": 10,
   "metadata": {},
   "outputs": [
    {
     "name": "stdout",
     "output_type": "stream",
     "text": [
      "The predictions of test dataset and accuracy for a BNBC on SPECT dastet is \n",
      " [[1, 0, 1, 1, 1, 1, 1, 1, 0, 1, 1, 0, 1, 1, 1, 1, 1, 1, 0, 1, 1, 1, 1, 1, 0, 1, 1, 1, 1, 0, 1, 1, 1, 1, 1, 1, 1, 1, 1, 1, 1, 1, 1, 0, 0, 1, 0, 1, 0, 1, 1, 0, 1, 0, 1, 1, 1, 0, 1, 1, 1, 1, 1, 1, 0, 1, 1, 1, 1, 1, 1, 1, 1, 1, 1, 1, 1, 1, 1, 1, 1, 1, 1, 1, 1, 1, 1, 1, 1, 1, 1, 1, 0, 1, 1, 1, 1, 1, 1, 1, 1, 1, 1, 0, 0, 1, 0, 0, 1, 0, 0, 0, 0, 1, 0, 1, 0, 1, 0, 1, 0, 0, 0, 1, 1, 0, 1, 1, 0, 1, 0, 1, 1, 0, 1, 1, 1, 1, 1, 1, 1, 1, 1, 1, 1, 0, 1, 1, 1, 1, 1, 0, 1, 1, 1, 0, 1, 1, 1, 1, 1, 1, 1, 1, 1, 1, 1, 1, 0, 1, 1, 1, 0, 1, 0, 0, 0, 0, 0, 0, 1, 0, 0, 1, 1, 1, 0]] \n",
      "\n",
      "and 0.775\n"
     ]
    }
   ],
   "source": [
    "Strain = parseTxtSPECT(\"SPECTtrain.txt\")\n",
    "Stest = parseTxtSPECT(\"SPECTtest.txt\")\n",
    "predictionsTest, accuracy = bernoulliNBClassifier(Strain, Stest)\n",
    "print(\"\"\"The predictions of test dataset and accuracy for a BNBC on SPECT dastet is \\n [%s] \\n\n",
    "and %.3f\"\"\" %(predictionsTest, accuracy))\n"
   ]
  },
  {
   "cell_type": "code",
   "execution_count": null,
   "metadata": {},
   "outputs": [],
   "source": []
  },
  {
   "cell_type": "code",
   "execution_count": null,
   "metadata": {},
   "outputs": [],
   "source": []
  }
 ],
 "metadata": {
  "kernelspec": {
   "display_name": "Python 3",
   "language": "python",
   "name": "python3"
  },
  "language_info": {
   "codemirror_mode": {
    "name": "ipython",
    "version": 3
   },
   "file_extension": ".py",
   "mimetype": "text/x-python",
   "name": "python",
   "nbconvert_exporter": "python",
   "pygments_lexer": "ipython3",
   "version": "3.6.4"
  }
 },
 "nbformat": 4,
 "nbformat_minor": 2
}
