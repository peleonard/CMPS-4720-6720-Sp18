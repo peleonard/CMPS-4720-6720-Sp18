{
 "cells": [
  {
   "cell_type": "code",
   "execution_count": 1,
   "metadata": {},
   "outputs": [
    {
     "data": {
      "text/plain": [
       "(187, 23)"
      ]
     },
     "execution_count": 1,
     "metadata": {},
     "output_type": "execute_result"
    }
   ],
   "source": [
    "##import the data SPECT\n",
    "import pandas as pd\n",
    "import numpy as np\n",
    "from matplotlib.pyplot import *\n",
    "#!cat SPECTtrain.txt\n",
    "sp_names = ['F' + str(i) for i in range(23)]\n",
    "sp_names[0] = 'diagnosis'\n",
    "SP_train = pd.read_csv(\"SPECTtrain.txt\", sep=\",\", names=sp_names)\n",
    "SP_test = pd.read_csv(\"SPECTtest.txt\", sep=\",\", names=sp_names)\n",
    "SP_train.shape\n",
    "SP_test.shape"
   ]
  },
  {
   "cell_type": "code",
   "execution_count": 2,
   "metadata": {
    "collapsed": true
   },
   "outputs": [],
   "source": [
    "## Perceptron Learning\n",
    "SP_train.diagnosis.replace(0, -1, inplace = True)\n",
    "SP_test.diagnosis.replace(0, -1, inplace = True)\n",
    "# r is the learning rate and Epochs is just the number of epochs \n",
    "def percepLearn_DF(X_train, y_train, X_test, y_test, r, Epochs):\n",
    "    w = np.zeros(X_train.shape[1])\n",
    "    for t in range(Epochs):\n",
    "        for i, row in X_train.iterrows():\n",
    "            if (np.dot(row, w)*y_train[i] <= 0):\n",
    "                w = w + r*y_train[i]*row\n",
    "    \n",
    "    fit = X_test.dot(w)\n",
    "    fit[fit<=0] = -1\n",
    "    fit[fit>0] = 1\n",
    "    \n",
    "    E = np.sum(fit == y_test)/len(y_test)\n",
    "    return [w, E]"
   ]
  },
  {
   "cell_type": "code",
   "execution_count": 3,
   "metadata": {},
   "outputs": [
    {
     "name": "stdout",
     "output_type": "stream",
     "text": [
      "Fitted weights of the perceptronwith leanring rate 0.01 and Epochs 10 are:\n",
      " [-0.02 -0.03 -0.04 -0.02 -0.02 -0.01  0.    0.03 -0.01 -0.01  0.01 -0.02\n",
      "  0.02 -0.01  0.   -0.01  0.07  0.04 -0.01 -0.02 -0.02 -0.01]\n",
      " Accuracy Rate is 0.230\n",
      "Fitted weights of the perceptronwith leanring rate 0.01 and Epochs 20 are:\n",
      " [-0.02 -0.04 -0.06 -0.02 -0.03 -0.02  0.03  0.04  0.    0.02  0.02 -0.03\n",
      "  0.02  0.    0.    0.    0.09  0.05  0.   -0.01  0.   -0.01]\n",
      " Accuracy Rate is 0.369\n",
      "Fitted weights of the perceptronwith leanring rate 0.01 and Epochs 30 are:\n",
      " [-0.03 -0.04 -0.05 -0.02 -0.04 -0.01  0.04  0.04 -0.02  0.02  0.03 -0.03\n",
      "  0.03 -0.01  0.   -0.01  0.1   0.06 -0.01 -0.01 -0.02 -0.01]\n",
      " Accuracy Rate is 0.348\n",
      "Fitted weights of the perceptronwith leanring rate 0.10 and Epochs 10 are:\n",
      " [-0.1 -0.2 -0.4 -0.2 -0.2 -0.2  0.   0.3 -0.1 -0.1  0.1 -0.1  0.2 -0.1  0.\n",
      " -0.1  0.6  0.5 -0.1 -0.1 -0.1 -0.1]\n",
      " Accuracy Rate is 0.310\n",
      "Fitted weights of the perceptronwith leanring rate 0.10 and Epochs 20 are:\n",
      " [-0.2 -0.3 -0.5 -0.2 -0.3 -0.2  0.2  0.3 -0.2  0.2  0.2 -0.3  0.2 -0.2  0.\n",
      " -0.1  0.9  0.6 -0.1 -0.2 -0.2 -0.2]\n",
      " Accuracy Rate is 0.257\n",
      "Fitted weights of the perceptronwith leanring rate 0.10 and Epochs 30 are:\n",
      " [-0.4 -0.4 -0.6 -0.2 -0.3 -0.1  0.3  0.3 -0.2  0.1  0.3 -0.3  0.2 -0.1  0.\n",
      " -0.1  0.9  0.7 -0.1 -0.2 -0.2 -0.1]\n",
      " Accuracy Rate is 0.251\n",
      "Fitted weights of the perceptronwith leanring rate 1.00 and Epochs 10 are:\n",
      " [-2. -3. -4. -2. -2. -1.  1.  2.  0. -1.  0. -1.  1.  0.  0.  0.  7.  5.\n",
      " -1. -1. -2. -1.]\n",
      " Accuracy Rate is 0.203\n",
      "Fitted weights of the perceptronwith leanring rate 1.00 and Epochs 20 are:\n",
      " [-2. -4. -5. -2. -2. -1.  2.  3. -2.  1.  2. -3.  2. -2.  0. -1.  8.  7.\n",
      " -1. -1. -2. -1.]\n",
      " Accuracy Rate is 0.257\n",
      "Fitted weights of the perceptronwith leanring rate 1.00 and Epochs 30 are:\n",
      " [ -3.  -4.  -7.  -2.  -3.   0.   4.   3.  -1.   2.   3.  -3.   3.  -1.   0.\n",
      "  -1.  10.   8.   0.  -1.  -2.  -1.]\n",
      " Accuracy Rate is 0.353\n"
     ]
    }
   ],
   "source": [
    "## Implementation of the perceptron learning algorithm \n",
    "weights = np.zeros((9,22))\n",
    "accuracyRate = np.zeros(9)\n",
    "for i in range(3):\n",
    "    for j in range(3):\n",
    "        r = 10**(i-2)\n",
    "        nE = 10*(j+1)\n",
    "        weights[j+i*3], accuracyRate[j+i*3] = percepLearn_DF(X_train = SP_train.iloc[:,1:23], \n",
    "               y_train = SP_train.iloc[:, 0], \n",
    "               X_test = SP_test.iloc[:,1:23], y_test = SP_test.iloc[:,0], \n",
    "               r = r, Epochs=nE) \n",
    "        print(\"Fitted weights of the perceptron\"\n",
    "              \"with leanring rate %.2f and Epochs %d\" %(r, nE) + \n",
    "              \" are:\\n {}\".format(weights[j+3*i]) +\n",
    "              \"\\n Accuracy Rate is %.3f\" %(accuracyRate[j+3*i]))"
   ]
  },
  {
   "cell_type": "code",
   "execution_count": 4,
   "metadata": {},
   "outputs": [
    {
     "data": {
      "text/html": [
       "<div>\n",
       "<style>\n",
       "    .dataframe thead tr:only-child th {\n",
       "        text-align: right;\n",
       "    }\n",
       "\n",
       "    .dataframe thead th {\n",
       "        text-align: left;\n",
       "    }\n",
       "\n",
       "    .dataframe tbody tr th {\n",
       "        vertical-align: top;\n",
       "    }\n",
       "</style>\n",
       "<table border=\"1\" class=\"dataframe\">\n",
       "  <thead>\n",
       "    <tr style=\"text-align: right;\">\n",
       "      <th></th>\n",
       "      <th>0.1</th>\n",
       "      <th>1.0</th>\n",
       "      <th>10.0</th>\n",
       "    </tr>\n",
       "  </thead>\n",
       "  <tbody>\n",
       "    <tr>\n",
       "      <th>10</th>\n",
       "      <td>0.229947</td>\n",
       "      <td>0.368984</td>\n",
       "      <td>0.347594</td>\n",
       "    </tr>\n",
       "    <tr>\n",
       "      <th>20</th>\n",
       "      <td>0.310160</td>\n",
       "      <td>0.256684</td>\n",
       "      <td>0.251337</td>\n",
       "    </tr>\n",
       "    <tr>\n",
       "      <th>30</th>\n",
       "      <td>0.203209</td>\n",
       "      <td>0.256684</td>\n",
       "      <td>0.352941</td>\n",
       "    </tr>\n",
       "  </tbody>\n",
       "</table>\n",
       "</div>"
      ],
      "text/plain": [
       "        0.1       1.0       10.0\n",
       "10  0.229947  0.368984  0.347594\n",
       "20  0.310160  0.256684  0.251337\n",
       "30  0.203209  0.256684  0.352941"
      ]
     },
     "execution_count": 4,
     "metadata": {},
     "output_type": "execute_result"
    }
   ],
   "source": [
    "## Plot for Comparision of Accuracy Rates on Different Learning Rates and Epochs        \n",
    "arDF = pd.DataFrame(accuracyRate.reshape((3,3)), \n",
    "                    columns=np.array([0.1,1,10]),\n",
    "                    index=np.array([10,20,30]))\n",
    "arDF"
   ]
  },
  {
   "cell_type": "code",
   "execution_count": 5,
   "metadata": {},
   "outputs": [
    {
     "data": {
      "text/plain": [
       "<matplotlib.legend.Legend at 0x115755dd8>"
      ]
     },
     "execution_count": 5,
     "metadata": {},
     "output_type": "execute_result"
    },
    {
     "data": {
      "image/png": "[encoded data removed]",
      "text/plain": [
       "<matplotlib.figure.Figure at 0x115621b00>"
      ]
     },
     "metadata": {},
     "output_type": "display_data"
    }
   ],
   "source": [
    "%matplotlib inline\n",
    "plt = arDF.plot(xticks = [10,20,30], \n",
    "                title='Plot for Comparision of'\n",
    "                'Accuracy Rates on Different Learning Rates and Epochs')\n",
    "plt.set_xlabel('epochs')\n",
    "plt.legend(['learning rate: 0.1', 'learning rate: 1', 'learning rate: 10'])"
   ]
  }
 ],
 "metadata": {
  "kernelspec": {
   "display_name": "Python 3",
   "language": "python",
   "name": "python3"
  },
  "language_info": {
   "codemirror_mode": {
    "name": "ipython",
    "version": 3
   },
   "file_extension": ".py",
   "mimetype": "text/x-python",
   "name": "python",
   "nbconvert_exporter": "python",
   "pygments_lexer": "ipython3",
   "version": "3.6.3"
  }
 },
 "nbformat": 4,
 "nbformat_minor": 2
}
