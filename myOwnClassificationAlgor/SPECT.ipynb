{
 "cells": [
  {
   "cell_type": "code",
   "execution_count": null,
   "metadata": {},
   "outputs": [],
   "source": [
    "##import the data SPECT\n",
    "import pandas as pd\n",
    "import numpy as np\n",
    "from decimal import *\n",
    "#!cat SPECTtrain.txt\n",
    "sp_names = ['F' + str(i) for i in range(23)]\n",
    "sp_names[0] = 'diagnosis'\n",
    "SP_train = pd.read_csv(\"SPECTtrain.txt\", sep=\",\", names=sp_names)\n",
    "SP_test = pd.read_csv(\"SPECTtest.txt\", sep=\",\", names=sp_names)\n",
    "SP_train.shape\n",
    "SP_test.shape"
   ]
  },
  {
   "cell_type": "code",
   "execution_count": null,
   "metadata": {},
   "outputs": [],
   "source": [
    "## Perceptron Learning\n",
    "SP_train.diagnosis.replace(0, -1, inplace = True)\n",
    "SP_test.diagnosis.replace(0, -1, inplace = True)\n",
    "# r is the learning rate and numEpochs is just the number of epochs \n",
    "def percepLearn_DF(X_train, y_train, X_test, y_test, r, numEpochs):\n",
    "    w = np.zeros(X_train.shape[1])\n",
    "    for t in range(numEpochs):\n",
    "        for i, row in X_train.iterrows():\n",
    "            if (np.dot(row, w)*y_train[i] <= 0):\n",
    "                w = w + r*y_train[i]*row\n",
    "    fit = X_test.dot(w)\n",
    "    fit[fit<=0] = -1\n",
    "    fit[fit>0] = 1\n",
    "    \n",
    "    E = np.sum(fit == y_test)/len(y_test)\n",
    "    return [w, E]\n",
    "\n",
    "weights, accuracyRate = percepLearn_DF(X_train = SP_train.iloc[:,1:23], \n",
    "                                       y_train = SP_train.iloc[:, 0], \n",
    "                                       X_test = SP_test.iloc[:,1:23], \n",
    "                                       y_test = SP_test.iloc[:,0], \n",
    "                                       r = .1, numEpochs=50)\n",
    "\n",
    "print(\"Fitted weights of perceptron learning (with leanring rate 0.1 and numEpochs 50)\"\n",
    "      \"is: \\n {}\".format(weights)+  \"\\n\" + \n",
    "      \"Accuracy rate is: {:.3f}\".format(accuracyRate))"
   ]
  },
  {
   "cell_type": "code",
   "execution_count": null,
   "metadata": {
    "collapsed": true
   },
   "outputs": [],
   "source": []
  }
 ],
 "metadata": {
  "kernelspec": {
   "display_name": "Python 3",
   "language": "python",
   "name": "python3"
  },
  "language_info": {
   "codemirror_mode": {
    "name": "ipython",
    "version": 3
   },
   "file_extension": ".py",
   "mimetype": "text/x-python",
   "name": "python",
   "nbconvert_exporter": "python",
   "pygments_lexer": "ipython3",
   "version": "3.6.3"
  }
 },
 "nbformat": 4,
 "nbformat_minor": 2
}
