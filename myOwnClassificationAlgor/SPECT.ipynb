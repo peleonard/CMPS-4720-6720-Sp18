{
 "cells": [
  {
   "cell_type": "code",
   "execution_count": 3,
   "metadata": {},
   "outputs": [
    {
     "data": {
      "text/plain": [
       "(187, 23)"
      ]
     },
     "execution_count": 3,
     "metadata": {},
     "output_type": "execute_result"
    }
   ],
   "source": [
    "##import the data SPECT\n",
    "import pandas as pd\n",
    "import numpy as np\n",
    "from matplotlib.pyplot import *\n",
    "#!cat SPECTtrain.txt\n",
    "sp_names = ['F' + str(i) for i in range(23)]\n",
    "sp_names[0] = 'diagnosis'\n",
    "SP_train = pd.read_csv(\"SPECTtrain.txt\", sep=\",\", names=sp_names)\n",
    "SP_test = pd.read_csv(\"SPECTtest.txt\", sep=\",\", names=sp_names)\n",
    "SP_train.shape\n",
    "SP_test.shape"
   ]
  },
  {
   "cell_type": "code",
   "execution_count": 4,
   "metadata": {
    "collapsed": true
   },
   "outputs": [],
   "source": [
    "## Perceptron Learning\n",
    "\n",
    "SP_train.diagnosis.replace(0, -1, inplace = True)\n",
    "SP_test.diagnosis.replace(0, -1, inplace = True)\n",
    "# r is the learning rate and Epochs is just the number of epochs \n",
    "def percepLearn_DF(X_train, y_train, X_test, y_test, r, Epochs):\n",
    "    w = np.zeros(X_train.shape[1])\n",
    "    for t in range(Epochs):\n",
    "        for i, row in X_train.iterrows():\n",
    "#            w = w + r*y_train[i]*row if (np.dot(row, w)*y_train[i] <= 0) else w\n",
    "            if (np.dot(row, w)*y_train[i] <= 0):\n",
    "                w = w + r*y_train[i]*row\n",
    "                \n",
    "    fit = X_test.dot(w)\n",
    "    fit[fit<=0] = -1\n",
    "    fit[fit>0] = 1\n",
    "    \n",
    "    E = np.sum(fit == y_test)/len(y_test)\n",
    "    return [w, E]"
   ]
  },
  {
   "cell_type": "code",
   "execution_count": 5,
   "metadata": {},
   "outputs": [
    {
     "name": "stdout",
     "output_type": "stream",
     "text": [
      "Fitted weights of the perceptronwith leanring rate 0.01 and Epochs 10 are:\n",
      " [-0.01 -0.03 -0.04 -0.02 -0.02 -0.02  0.    0.03 -0.01 -0.01  0.01 -0.01\n",
      "  0.02 -0.01  0.    0.    0.06  0.05 -0.01 -0.01 -0.02 -0.01]\n",
      " Accuracy Rate is 0.262\n",
      "Fitted weights of the perceptronwith leanring rate 0.10 and Epochs 10 are:\n",
      " [-0.1 -0.2 -0.4 -0.2 -0.2 -0.2  0.   0.3 -0.1 -0.1  0.1 -0.1  0.2 -0.1  0.\n",
      " -0.1  0.6  0.5 -0.1 -0.1 -0.1 -0.1]\n",
      " Accuracy Rate is 0.310\n",
      "Fitted weights of the perceptronwith leanring rate 1.00 and Epochs 10 are:\n",
      " [-2. -3. -4. -2. -2. -1.  1.  2.  0. -1.  0. -1.  1.  0.  0.  0.  7.  5.\n",
      " -1. -1. -2. -1.]\n",
      " Accuracy Rate is 0.203\n",
      "Fitted weights of the perceptronwith leanring rate 0.01 and Epochs 20 are:\n",
      " [-0.02 -0.04 -0.06 -0.02 -0.03 -0.01  0.02  0.04 -0.02  0.02  0.02 -0.04\n",
      "  0.02 -0.02  0.    0.    0.09  0.06 -0.01 -0.02 -0.01 -0.01]\n",
      " Accuracy Rate is 0.273\n",
      "Fitted weights of the perceptronwith leanring rate 0.10 and Epochs 20 are:\n",
      " [-0.3 -0.3 -0.6 -0.2 -0.3 -0.2  0.2  0.3 -0.1  0.1  0.2 -0.4  0.1 -0.1  0.\n",
      "  0.   0.9  0.5  0.  -0.2 -0.2 -0.1]\n",
      " Accuracy Rate is 0.225\n",
      "Fitted weights of the perceptronwith leanring rate 1.00 and Epochs 20 are:\n",
      " [-2. -4. -5. -2. -2. -1.  2.  3. -2.  1.  2. -3.  2. -2.  0. -1.  8.  7.\n",
      " -1. -1. -2. -1.]\n",
      " Accuracy Rate is 0.257\n",
      "Fitted weights of the perceptronwith leanring rate 0.01 and Epochs 50 are:\n",
      " [-0.04 -0.03 -0.06 -0.02 -0.04 -0.02  0.04  0.04 -0.02  0.03  0.03 -0.04\n",
      "  0.04  0.    0.   -0.03  0.11  0.09 -0.01 -0.02 -0.02 -0.01]\n",
      " Accuracy Rate is 0.337\n",
      "Fitted weights of the perceptronwith leanring rate 0.10 and Epochs 50 are:\n",
      " [-0.3 -0.4 -0.6 -0.2 -0.3 -0.1  0.3  0.5 -0.2  0.1  0.3 -0.3  0.4  0.   0.\n",
      " -0.4  1.1  0.8 -0.1 -0.1 -0.2 -0.1]\n",
      " Accuracy Rate is 0.364\n",
      "Fitted weights of the perceptronwith leanring rate 1.00 and Epochs 50 are:\n",
      " [ -4.  -3.  -7.  -1.  -3.  -1.   4.   4.  -2.   1.   3.  -4.   3.   0.   0.\n",
      "  -1.  10.   9.  -1.  -1.  -3.  -1.]\n",
      " Accuracy Rate is 0.321\n",
      "Fitted weights of the perceptronwith leanring rate 0.01 and Epochs 100 are:\n",
      " [-0.05 -0.04 -0.07 -0.02 -0.03 -0.04  0.03  0.05 -0.05  0.03  0.05 -0.06\n",
      "  0.05  0.02  0.   -0.03  0.11  0.11 -0.01 -0.02 -0.03 -0.01]\n",
      " Accuracy Rate is 0.337\n",
      "Fitted weights of the perceptronwith leanring rate 0.10 and Epochs 100 are:\n",
      " [-0.3 -0.4 -0.6 -0.2 -0.4 -0.3  0.4  0.5 -0.2  0.1  0.3 -0.4  0.4  0.   0.\n",
      " -0.2  1.   0.9 -0.1 -0.2 -0.2 -0.2]\n",
      " Accuracy Rate is 0.316\n",
      "Fitted weights of the perceptronwith leanring rate 1.00 and Epochs 100 are:\n",
      " [ -4.  -5.  -6.  -2.  -4.  -1.   3.   4.  -3.   2.   4.  -4.   4.   0.   0.\n",
      "  -1.  10.   9.  -1.  -2.  -1.  -2.]\n",
      " Accuracy Rate is 0.332\n",
      "Fitted weights of the perceptronwith leanring rate 0.01 and Epochs 300 are:\n",
      " [-0.05 -0.04 -0.11 -0.02 -0.04 -0.06  0.04  0.08 -0.07  0.03  0.06 -0.04\n",
      "  0.04  0.06  0.   -0.02  0.13  0.12  0.   -0.02 -0.03 -0.01]\n",
      " Accuracy Rate is 0.401\n",
      "Fitted weights of the perceptronwith leanring rate 0.10 and Epochs 300 are:\n",
      " [-0.6 -0.5 -0.9 -0.2 -0.3 -0.5  0.5  0.7 -0.8  0.3  0.5 -0.2  0.5  0.5  0.\n",
      " -0.3  1.3  1.1 -0.1 -0.2 -0.2 -0.1]\n",
      " Accuracy Rate is 0.401\n",
      "Fitted weights of the perceptronwith leanring rate 1.00 and Epochs 300 are:\n",
      " [ -4.  -5.  -6.  -2.  -4.  -1.   3.   4.  -3.   2.   4.  -4.   4.   0.   0.\n",
      "  -1.  10.   9.  -1.  -2.  -1.  -2.]\n",
      " Accuracy Rate is 0.332\n",
      "Fitted weights of the perceptronwith leanring rate 0.01 and Epochs 500 are:\n",
      " [-0.04 -0.04 -0.08 -0.02 -0.05 -0.01  0.05  0.06 -0.05  0.02  0.03 -0.06\n",
      "  0.05  0.01  0.   -0.02  0.12  0.11  0.   -0.02 -0.02 -0.02]\n",
      " Accuracy Rate is 0.337\n",
      "Fitted weights of the perceptronwith leanring rate 0.10 and Epochs 500 are:\n",
      " [-0.5 -0.3 -1.1 -0.2 -0.4 -0.6  0.5  0.9 -1.   0.4  0.5 -0.3  0.4  0.6  0.\n",
      " -0.3  1.3  1.1 -0.1 -0.1 -0.3 -0.1]\n",
      " Accuracy Rate is 0.390\n",
      "Fitted weights of the perceptronwith leanring rate 1.00 and Epochs 500 are:\n",
      " [ -4.  -5.  -6.  -2.  -4.  -1.   3.   4.  -3.   2.   4.  -4.   4.   0.   0.\n",
      "  -1.  10.   9.  -1.  -2.  -1.  -2.]\n",
      " Accuracy Rate is 0.332\n"
     ]
    }
   ],
   "source": [
    "## Implementation of the perceptron learning algorithm \n",
    "    \n",
    "nE = np.array([10, 20, 50, 100, 300, 500])\n",
    "lR = np.array([.01, .1, 1])\n",
    "\n",
    "weights = np.zeros((len(nE)*len(lR),22))\n",
    "accuracyRate = np.zeros(len(nE)*len(lR))\n",
    "\n",
    "for i in range(len(nE)):\n",
    "    for j in range(len(lR)):\n",
    "        weights[j+i*len(lR)], accuracyRate[j+i*len(lR)] = percepLearn_DF(X_train = SP_train.iloc[:,1:23], \n",
    "               y_train = SP_train.iloc[:, 0], \n",
    "               X_test = SP_test.iloc[:,1:23], y_test = SP_test.iloc[:,0], \n",
    "               r = lR[j], Epochs=nE[i]) \n",
    "        print(\"Fitted weights of the perceptron\"\n",
    "              \"with leanring rate %.2f and Epochs %d\" %(lR[j], nE[i]) + \n",
    "              \" are:\\n {}\".format(weights[j+len(lR)*i]) +\n",
    "              \"\\n Accuracy Rate is %.3f\" %(accuracyRate[j+len(lR)*i]))"
   ]
  },
  {
   "cell_type": "code",
   "execution_count": 6,
   "metadata": {},
   "outputs": [
    {
     "data": {
      "text/html": [
       "<div>\n",
       "<style>\n",
       "    .dataframe thead tr:only-child th {\n",
       "        text-align: right;\n",
       "    }\n",
       "\n",
       "    .dataframe thead th {\n",
       "        text-align: left;\n",
       "    }\n",
       "\n",
       "    .dataframe tbody tr th {\n",
       "        vertical-align: top;\n",
       "    }\n",
       "</style>\n",
       "<table border=\"1\" class=\"dataframe\">\n",
       "  <thead>\n",
       "    <tr style=\"text-align: right;\">\n",
       "      <th></th>\n",
       "      <th>0.01</th>\n",
       "      <th>0.1</th>\n",
       "      <th>1.0</th>\n",
       "    </tr>\n",
       "  </thead>\n",
       "  <tbody>\n",
       "    <tr>\n",
       "      <th>10</th>\n",
       "      <td>0.262032</td>\n",
       "      <td>0.310160</td>\n",
       "      <td>0.203209</td>\n",
       "    </tr>\n",
       "    <tr>\n",
       "      <th>20</th>\n",
       "      <td>0.272727</td>\n",
       "      <td>0.224599</td>\n",
       "      <td>0.256684</td>\n",
       "    </tr>\n",
       "    <tr>\n",
       "      <th>50</th>\n",
       "      <td>0.336898</td>\n",
       "      <td>0.363636</td>\n",
       "      <td>0.320856</td>\n",
       "    </tr>\n",
       "    <tr>\n",
       "      <th>100</th>\n",
       "      <td>0.336898</td>\n",
       "      <td>0.315508</td>\n",
       "      <td>0.331551</td>\n",
       "    </tr>\n",
       "    <tr>\n",
       "      <th>300</th>\n",
       "      <td>0.401070</td>\n",
       "      <td>0.401070</td>\n",
       "      <td>0.331551</td>\n",
       "    </tr>\n",
       "    <tr>\n",
       "      <th>500</th>\n",
       "      <td>0.336898</td>\n",
       "      <td>0.390374</td>\n",
       "      <td>0.331551</td>\n",
       "    </tr>\n",
       "  </tbody>\n",
       "</table>\n",
       "</div>"
      ],
      "text/plain": [
       "         0.01      0.10      1.00\n",
       "10   0.262032  0.310160  0.203209\n",
       "20   0.272727  0.224599  0.256684\n",
       "50   0.336898  0.363636  0.320856\n",
       "100  0.336898  0.315508  0.331551\n",
       "300  0.401070  0.401070  0.331551\n",
       "500  0.336898  0.390374  0.331551"
      ]
     },
     "execution_count": 6,
     "metadata": {},
     "output_type": "execute_result"
    }
   ],
   "source": [
    "## chart for Comparision of Accuracy Rates on Different Learning Rates and Epochs        \n",
    "arDF = pd.DataFrame(accuracyRate.reshape((len(nE), len(lR))), \n",
    "                    columns=lR,\n",
    "                    index=nE)\n",
    "arDF"
   ]
  },
  {
   "cell_type": "code",
   "execution_count": 9,
   "metadata": {},
   "outputs": [
    {
     "data": {
      "text/plain": [
       "<matplotlib.legend.Legend at 0x114e1e5f8>"
      ]
     },
     "execution_count": 9,
     "metadata": {},
     "output_type": "execute_result"
    },
    {
     "data": {
      "image/png": "[encoded data removed]",
      "text/plain": [
       "<matplotlib.figure.Figure at 0x118e6ca20>"
      ]
     },
     "metadata": {},
     "output_type": "display_data"
    }
   ],
   "source": [
    "## plot for Comparision of Accuracy Rates on Different Learning Rates and Epochs        \n",
    "\n",
    "%matplotlib inline\n",
    "plt = arDF.plot(title='Plot for Comparision of'\n",
    "                'Accuracy Rates on Different Learning Rates and Epochs')\n",
    "plt.set_xlabel('epochs')\n",
    "plt.legend(['learning rate: 0.1', 'learning rate: 1', 'learning rate: 10'])"
   ]
  },
  {
   "cell_type": "code",
   "execution_count": null,
   "metadata": {
    "collapsed": true
   },
   "outputs": [],
   "source": []
  }
 ],
 "metadata": {
  "kernelspec": {
   "display_name": "Python 3",
   "language": "python",
   "name": "python3"
  },
  "language_info": {
   "codemirror_mode": {
    "name": "ipython",
    "version": 3
   },
   "file_extension": ".py",
   "mimetype": "text/x-python",
   "name": "python",
   "nbconvert_exporter": "python",
   "pygments_lexer": "ipython3",
   "version": "3.6.3"
  }
 },
 "nbformat": 4,
 "nbformat_minor": 2
}
